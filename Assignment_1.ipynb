{
  "nbformat": 4,
  "nbformat_minor": 0,
  "metadata": {
    "colab": {
      "name": "Assignment_1.ipynb",
      "provenance": [],
      "authorship_tag": "ABX9TyMMtiPnzhifhWyv0vXxMC3O",
      "include_colab_link": true
    },
    "kernelspec": {
      "name": "python3",
      "display_name": "Python 3"
    },
    "language_info": {
      "name": "python"
    }
  },
  "cells": [
    {
      "cell_type": "markdown",
      "metadata": {
        "id": "view-in-github",
        "colab_type": "text"
      },
      "source": [
        "<a href=\"https://colab.research.google.com/github/shripatil1297/Assignment_1/blob/main/Assignment_1.ipynb\" target=\"_parent\"><img src=\"https://colab.research.google.com/assets/colab-badge.svg\" alt=\"Open In Colab\"/></a>"
      ]
    },
    {
      "cell_type": "markdown",
      "source": [
        "Assignment-1\n",
        "\n",
        "1.get three user inputs-->name(firstname,secondname),mobile no.,gmail id\n",
        "\n",
        "2.capitalize the name\n",
        "\n",
        "3.validate mobile no\n",
        "\n",
        "4.if all conditions satified then print the output\n",
        "\n",
        "5.else get the correct inputs\n",
        " *italicised text*"
      ],
      "metadata": {
        "id": "nBCtYqWGyweB"
      }
    },
    {
      "cell_type": "code",
      "source": [
        "f_name=input(\"Enter first name::\")\n",
        "s_name=input(\"Enter Second name::\")\n",
        "phone_no=input(\"Enter Phone NO::\")\n",
        "gmail=input(\"Enter Gmail Id::\")\n",
        "\n",
        "fname=f_name.capitalize()\n",
        "sname=s_name.capitalize()\n",
        "gmail=gmail_id.lower()\n",
        "\n",
        "print('Name:',fname)\n",
        "print('Second Name:',sname)\n",
        "#phone number\n",
        "if phone_no.isdigit() and len(phone_no)==10:\n",
        "  print(\"Phone no.::\",phone_no)\n",
        "else:\n",
        "  print(\"Try again!\")\n",
        "\n",
        "if gmail.endswith(\"@gmail.com\") and gmail[:-10].isalnum():\n",
        "  print(\"Gmail ID::\",gmail)\n",
        "else:\n",
        "  print(\"WRong, Try again!\")"
      ],
      "metadata": {
        "colab": {
          "base_uri": "https://localhost:8080/"
        },
        "id": "aPZPpOsAzAyN",
        "outputId": "5d95e5cc-2838-4da6-ea8b-9696c9033f7c"
      },
      "execution_count": null,
      "outputs": [
        {
          "output_type": "stream",
          "name": "stdout",
          "text": [
            "Enter first name::jfuy\n",
            "Enter Second name::hiuhik\n",
            "Enter Phone NO::jjojo\n",
            "Enter Gmail Id::shreepatil12@gmail.com\n",
            "Name: Jfuy\n",
            "Second Name: Hiuhik\n",
            "Try again!\n",
            "Gmail ID:: shreepatil12@gmail.com\n"
          ]
        }
      ]
    }
  ]
}